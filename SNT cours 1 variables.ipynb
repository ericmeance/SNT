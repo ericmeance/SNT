{
 "cells": [
  {
   "cell_type": "markdown",
   "metadata": {},
   "source": [
    "## A- Des types pour stocker les données \n",
    "Les données peuvent être de différents types. Les types utiles pour les programmes de lycée sont:\n",
    "- entier (type int) comme 3 ou 42\n",
    "- réel (type float) comme 2.4 ou 3.14159265\n",
    "- liste (type list) comme [1, 2, 3, 12]\n",
    "- chaîne de caractères (type str) comme \"bonjour\"\n",
    "- booléen (type bool) comme True ou False\n",
    "\n",
    "### Les entiers \n",
    "<html >\n",
    "<head>\n",
    "    <meta charset=\"utf-8\" />\n",
    "    <title>HTML</title>\n",
    "    <link rel=\"stylesheet\" href=\"style.css\">\n",
    "  </head>\n",
    "<table>\n",
    "    <thead>\n",
    "        <tr>\n",
    "            <th colspan=\"2\">les entiers</th>\n",
    "        </tr>\n",
    "    </thead>\n",
    "    <tbody>\n",
    "        <tr>\n",
    "            <td>+ addition</td>\n",
    "            <td>- soustraction</td>\n",
    "             <td> * multiplication</td>\n",
    "        </tr>\n",
    "        <tr>\n",
    "            <td>// quotient de la division euclidienne</td>\n",
    "            <td>% reste de la division euclidienne</td>\n",
    "             <td>** puissance</td>\n",
    "        </tr>\n",
    "    </tbody>\n",
    "</table>\n",
    " \n",
    " \n",
    "      \n"
   ]
  },
  {
   "cell_type": "code",
   "execution_count": null,
   "metadata": {},
   "outputs": [],
   "source": []
  }
 ],
 "metadata": {
  "kernelspec": {
   "display_name": "Python 3",
   "language": "python",
   "name": "python3"
  },
  "language_info": {
   "codemirror_mode": {
    "name": "ipython",
    "version": 3
   },
   "file_extension": ".py",
   "mimetype": "text/x-python",
   "name": "python",
   "nbconvert_exporter": "python",
   "pygments_lexer": "ipython3",
   "version": "3.7.3"
  }
 },
 "nbformat": 4,
 "nbformat_minor": 2
}
