{
 "cells": [
  {
   "cell_type": "markdown",
   "metadata": {},
   "source": [
    "## A- Des types pour stocker les données \n",
    "Les données peuvent être de différents types. Les types utiles pour les programmes de lycée sont:\n",
    "- entier (type int) comme 3 ou 42\n",
    "- réel (type float) comme 2.4 ou 3.14159265\n",
    "- liste (type list) comme [1, 2, 3, 12]\n",
    "- chaîne de caractères (type str) comme \"bonjour\"\n",
    "- booléen (type bool) comme True ou False\n",
    "\n",
    "### Les entiers \n",
    "\n",
    "<head>\n",
    "    <meta charset=\"utf-8\" />\n",
    "    <title>HTML</title>\n",
    "    <link rel=\"stylesheet\" href=\"style.css\">\n",
    "  </head>\n",
    "<table>\n",
    "    <thead>\n",
    "        <tr>\n",
    "            <th> Opérations sur les entiers</th>\n",
    "        </tr>\n",
    "    </thead>\n",
    "    <tbody>\n",
    "        <tr>\n",
    "            <td>+ addition</td>\n",
    "            <td>- soustraction</td>\n",
    "             <td> * multiplication</td>\n",
    "        </tr>\n",
    "        <tr>\n",
    "            <td>// quotient de la division euclidienne</td>\n",
    "            <td>% reste de la division euclidienne</td>\n",
    "             <td>** puissance</td>\n",
    "        </tr>\n",
    "    </tbody>\n",
    "</table>\n",
    " \n",
    " ### Les réels ou flottants\n",
    " \n",
    "   <table>\n",
    "    <thead>\n",
    "        <tr>\n",
    "            <th> Opérations sur les flottants</th>\n",
    "        </tr>\n",
    "    </thead>\n",
    "    <tbody>\n",
    "        <tr>\n",
    "            <td>+ addition</td>\n",
    "            <td>- soustraction</td>\n",
    "             <td> * multiplication</td>\n",
    "             <td> / division</td>\n",
    "             <td> ** puissance</td>\n",
    "        </tr>\n",
    "      \n",
    "   </tbody>\n",
    "</table>\n",
    "\n",
    "Vous pouvez entrer un float en mémoire en utilisant une notation classique (attention, le séparateur est un point pas une virgule)  \n",
    "exemples : v = 0.064  ou G = 6.67*e-11"
   ]
  },
  {
   "cell_type": "code",
   "execution_count": null,
   "metadata": {},
   "outputs": [],
   "source": [
    "a = 3\n",
    "b = 4"
   ]
  },
  {
   "cell_type": "markdown",
   "metadata": {},
   "source": [
    "Les lettres \"a\" et \"b\" sont appelées des <span style=\"color:red\">**variables**</span>.<br>\n",
    "On parle d'**affectation** : la lettre \"a\" pointe vers l'entier 3  ; la lettre \"b\" pointe vers l'entier 4.\n",
    "Comment faire pour connaître la valeur de a ? il suffit d'éxécuter le code suivant:"
   ]
  },
  {
   "cell_type": "code",
   "execution_count": null,
   "metadata": {},
   "outputs": [],
   "source": [
    "a"
   ]
  },
  {
   "cell_type": "markdown",
   "metadata": {},
   "source": [
    "On peut modifier a en effectuant une opération :"
   ]
  },
  {
   "cell_type": "code",
   "execution_count": null,
   "metadata": {},
   "outputs": [],
   "source": [
    "a = a + 8\n",
    "a"
   ]
  },
  {
   "cell_type": "markdown",
   "metadata": {},
   "source": [
    "On peut aussi faire comme ceci :"
   ]
  },
  {
   "cell_type": "code",
   "execution_count": null,
   "metadata": {},
   "outputs": [],
   "source": [
    "a+= 3\n",
    "a"
   ]
  },
  {
   "cell_type": "markdown",
   "metadata": {},
   "source": [
    "On peut écrire une seule ligne pour affecter plusieurs variables "
   ]
  },
  {
   "cell_type": "code",
   "execution_count": null,
   "metadata": {},
   "outputs": [],
   "source": [
    "a, b, c = 6, 2.4, 'bonjour'"
   ]
  },
  {
   "cell_type": "markdown",
   "metadata": {},
   "source": [
    "On peut vérifier les types de variables avec l'instruction type."
   ]
  },
  {
   "cell_type": "code",
   "execution_count": null,
   "metadata": {},
   "outputs": [],
   "source": [
    "type(c)"
   ]
  },
  {
   "cell_type": "markdown",
   "metadata": {},
   "source": [
    "### <span style=\"color:red\">Exercice 1</span>\n",
    "Voici un algorithme écrit en langage naturel :  \n",
    "Affecter à A la valeur 2  \n",
    "Affecter à B la valeur 2 x A  \n",
    "Affecter à C la valeur B²  \n",
    "Afficher C  \n",
    "\n",
    "**utiliser le langage python dans la cellule ci dessous pour écrire cet algorithme**\n"
   ]
  },
  {
   "cell_type": "code",
   "execution_count": null,
   "metadata": {},
   "outputs": [],
   "source": []
  },
  {
   "cell_type": "markdown",
   "metadata": {},
   "source": [
    "### <span style=\"color:red\">Exercice 2</span>\n",
    "Programmer avec Python chacun des algorithmes suivants puis les exécuter.  \n",
    "**Algorithme1**  \n",
    "Affecter à A la valeur 7  \n",
    "Affecter à B la valeur 6 x A  \n",
    "Affecter à C la valeur A + B  \n",
    "Affecter à D la valeur B – C  \n",
    "Afficher D  "
   ]
  },
  {
   "cell_type": "code",
   "execution_count": null,
   "metadata": {},
   "outputs": [],
   "source": []
  },
  {
   "cell_type": "markdown",
   "metadata": {},
   "source": [
    "**Algorithme2**  \n",
    "Affecter à M la valeur 2  \n",
    "Affecter à N la valeur 4  \n",
    "Affecter à A la valeur M x N  \n",
    "Affecter à B la valeur M + N  \n",
    "Affecter à C la valeur A/B  \n",
    "Afficher M, N, A, B et C"
   ]
  },
  {
   "cell_type": "code",
   "execution_count": null,
   "metadata": {},
   "outputs": [],
   "source": []
  },
  {
   "cell_type": "markdown",
   "metadata": {},
   "source": [
    "**Algorithme3**  \n",
    "Affecter à A la valeur 2  \n",
    "Affecter à B la valeur 6  \n",
    "Affecter à P la valeur B<sup>A</sup>  \n",
    "Affecter à Q la valeur P<sup>A</sup>  \n",
    "Afficher Q  "
   ]
  },
  {
   "cell_type": "markdown",
   "metadata": {},
   "source": [
    "## B- Créer des fonctions pour éviter les répétitions  \n",
    "Un programme peut faire appel plusieurs fois à une même suite de lignes de code.  \n",
    "Pour éviter de retaper ces lignes, on crée une fonction qui permet de les résumer et à laquelle on pourra faire appel plusieurs fois.  \n",
    "En voici un exemple : ( execute les deux cellules)"
   ]
  },
  {
   "cell_type": "code",
   "execution_count": null,
   "metadata": {},
   "outputs": [],
   "source": [
    "def équation (x):\n",
    "    y1 = x**2 -5\n",
    "    y2 = -3*x**2 +8*x+7\n",
    "    return y1,y2\n",
    "équation(4)"
   ]
  },
  {
   "cell_type": "code",
   "execution_count": null,
   "metadata": {},
   "outputs": [],
   "source": [
    "équation(3.12)"
   ]
  },
  {
   "cell_type": "markdown",
   "metadata": {},
   "source": [
    "### application  \n",
    "Rechercher pour quel entier compris entre 1 et 10, on a y1 = y2"
   ]
  },
  {
   "cell_type": "markdown",
   "metadata": {},
   "source": [
    "### <span style=\"color:red\">Exercice 3</span>  \n",
    "Pour chacune des équations suivantes, écrire et tester un programme permettant d'en trouver au moins une solution.  \n",
    "2x²-3x-20 =  x+28"
   ]
  },
  {
   "cell_type": "code",
   "execution_count": null,
   "metadata": {
    "scrolled": true
   },
   "outputs": [],
   "source": []
  },
  {
   "cell_type": "markdown",
   "metadata": {},
   "source": [
    "-2x<sup>3</sup> + 111x = x<sup>3</sup> + 252"
   ]
  },
  {
   "cell_type": "code",
   "execution_count": null,
   "metadata": {},
   "outputs": [],
   "source": []
  },
  {
   "cell_type": "markdown",
   "metadata": {},
   "source": [
    "-2x<sup>3</sup> + 27x² = 16x + 240"
   ]
  },
  {
   "cell_type": "code",
   "execution_count": null,
   "metadata": {},
   "outputs": [],
   "source": []
  },
  {
   "cell_type": "markdown",
   "metadata": {},
   "source": [
    "### <span style=\"color:red\">Exercice 4</span>   \n",
    "Ecrire un programme où l'on saisit deux nombres entiers naturels au départ et où l'on obtient le quotient et le reste de la division euclidienne de ces deux nombres en sortie.\n"
   ]
  },
  {
   "cell_type": "code",
   "execution_count": null,
   "metadata": {},
   "outputs": [],
   "source": [
    "\n",
    "    "
   ]
  },
  {
   "cell_type": "markdown",
   "metadata": {},
   "source": [
    "### <span style=\"color:red\">Exercice 5</span>     \n",
    "Ecrire un programme qui affiche la longueur d’un segment AB connaissant les coordonnées de A et de B."
   ]
  },
  {
   "cell_type": "code",
   "execution_count": null,
   "metadata": {},
   "outputs": [],
   "source": []
  },
  {
   "cell_type": "markdown",
   "metadata": {},
   "source": [
    "### <span style=\"color:red\">Exercice 6</span>   \n",
    "Inventer et tester un programme mettant en œuvre de nombreuses instructions vues dans cette fiche (saisie, affectation, affichage, quotient, reste, …)."
   ]
  },
  {
   "cell_type": "code",
   "execution_count": null,
   "metadata": {},
   "outputs": [],
   "source": []
  }
 ],
 "metadata": {
  "kernelspec": {
   "display_name": "Python 3",
   "language": "python",
   "name": "python3"
  },
  "language_info": {
   "codemirror_mode": {
    "name": "ipython",
    "version": 3
   },
   "file_extension": ".py",
   "mimetype": "text/x-python",
   "name": "python",
   "nbconvert_exporter": "python",
   "pygments_lexer": "ipython3",
   "version": "3.7.3"
  }
 },
 "nbformat": 4,
 "nbformat_minor": 2
}
