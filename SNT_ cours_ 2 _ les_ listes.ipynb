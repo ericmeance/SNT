{
 "cells": [
  {
   "cell_type": "markdown",
   "metadata": {},
   "source": [
    "### Les listes  \n",
    " \n",
    "- On crée une liste en mettant des éléments séparés par des virgules entre crochets : L = [1, 2, 3]\n",
    "- Une liste vide est créée en ne mettant que les crochets: v = [ ]\n",
    "- On peut ajouter des éléments en fin de liste en utilisant la méthode append :"
   ]
  },
  {
   "cell_type": "code",
   "execution_count": 1,
   "metadata": {},
   "outputs": [
    {
     "name": "stdout",
     "output_type": "stream",
     "text": [
      "[1, 2, 3, 4]\n",
      "[1, 2, 3, 4, 5]\n"
     ]
    }
   ],
   "source": [
    "x = [1,2,3,4]\n",
    "print(x)\n",
    "x.append(5)\n",
    "print(x)"
   ]
  },
  {
   "cell_type": "markdown",
   "metadata": {},
   "source": [
    "- On a accès à la taille d'une liste (nombre d'éléments) avec la fonction len. Le code  len(x) renvoie 5 car la liste x précédente contient maintenant 5 éléments.  \n",
    "- On appelle un élément grâce à la syntaxe x[indice] ou indice est un entier. Attention, la numérotation des éléments commence à zéro. L'indice sera donc entre 0 et len(x)-1 "
   ]
  },
  {
   "cell_type": "code",
   "execution_count": 2,
   "metadata": {},
   "outputs": [
    {
     "name": "stdout",
     "output_type": "stream",
     "text": [
      "36\n",
      "4\n"
     ]
    }
   ],
   "source": [
    "S = [12, 42, 36, 17]\n",
    "print( S [2] )\n",
    "print(len(S))"
   ]
  },
  {
   "cell_type": "markdown",
   "metadata": {},
   "source": [
    "- On peut changer la valeur d'un élément d'une liste avec une affectation: "
   ]
  },
  {
   "cell_type": "code",
   "execution_count": 3,
   "metadata": {},
   "outputs": [
    {
     "name": "stdout",
     "output_type": "stream",
     "text": [
      "[12, 42, 36, 17]\n",
      "[12, 42, 15, 17]\n"
     ]
    }
   ],
   "source": [
    "x = [12, 42, 36, 17]\n",
    "print( x )\n",
    "x[2] = 15\n",
    "print(x)"
   ]
  },
  {
   "cell_type": "markdown",
   "metadata": {},
   "source": [
    "### <span style=\"color:red\">Exercice 1</span>  \n",
    "Ecrire un programme :\n",
    "- créer une liste avec 4 valeurs puis de l’imprimer\n",
    "- ajouter à cette liste 2 valeurs,\n",
    "- compter le nom d’élément de la liste\n",
    "- remplacer la valeur 4 de la liste par une autre"
   ]
  },
  {
   "cell_type": "code",
   "execution_count": null,
   "metadata": {},
   "outputs": [],
   "source": []
  },
  {
   "cell_type": "markdown",
   "metadata": {},
   "source": [
    "On peut extraire des sous-listes en utilisant des \"slices\".  \n",
    "La syntaxe est x[d : f : p] où d, f et p sont des entiers représentants l'indice du premier élément, l'indice du premier élément qui n'y sera pas, et le pas.   \n",
    "Par défaut,si aucune valeur n’est indiquée, d et f représentent le début et la fin de la liste et le pas est de 1. \n",
    "tester le programme suivant :"
   ]
  },
  {
   "cell_type": "code",
   "execution_count": null,
   "metadata": {},
   "outputs": [],
   "source": [
    "a = [1, 2, 3, 4, 5, 6, 7, 8, 9, 10]\n",
    "b = a[ 2 : 7 : 2 ] #extraction d'une sous-liste de a comportant les éléments d'indice 2, 4 et 6\n",
    "print(b)\n",
    "b = a[ : : 2] #extraction d'une sous-liste de a comportant les éléments d'indice 0, 2, 4, 6 et 8\n",
    "print(b)\n",
    "b = a[ 2 : : ] #extraction d'une sous-liste de a comportant les éléments d'indice 2, 3, 4, 5, 6, 7, 8 et 9\n",
    "print(b)"
   ]
  },
  {
   "cell_type": "markdown",
   "metadata": {},
   "source": [
    "### <span style=\"color:red\">Exercice 2</span>    \n",
    "1. Créer la liste Q suivante :  \n",
    "[11, 6, 14, 17, 13, 24]  \n",
    "2. faire imprimer son nombre d'éléments   \n",
    "3. Créer une autre liste P à partir de la première et l'imprimer afin d'obtenir :[11, 6, 14, 17, 47]  \n",
    "4. Rajouter un élement à P  \n",
    "5. ajouter P et Q pour créer une liste F et imprimer F. Commenter le résultat.\n"
   ]
  },
  {
   "cell_type": "code",
   "execution_count": 1,
   "metadata": {},
   "outputs": [
    {
     "name": "stdout",
     "output_type": "stream",
     "text": [
      "[11, 6, 14, 17, 8]\n",
      "[11, 6, 14, 17, 8, 11, 6, 14, 17, 13, 24]\n"
     ]
    }
   ],
   "source": [
    "Q = [11, 6, 14, 17, 13, 24]\n",
    "P = Q[:4:1]\n",
    "P.append(47)\n",
    "print(P)\n",
    "F = P + Q\n",
    "print(F)"
   ]
  },
  {
   "cell_type": "markdown",
   "metadata": {},
   "source": [
    "## Les listes,  suite\n",
    "\n",
    "On  peut mettre un peu de tout dans une liste et en plus mélanger les types (chaines de caractères, nombres, booléens ...) "
   ]
  },
  {
   "cell_type": "code",
   "execution_count": null,
   "metadata": {},
   "outputs": [],
   "source": [
    "ma_liste_de_nombres = [ 1, 4, 9, 3, 1, 2 ]\n",
    "ma_liste_de_courses = [ \"stylos rouges\" , \"piles\" , \"souris pour la salle info\" , \"claviers\" ]\n",
    "ma_liste_de_coordonnées_de_vecteurs = [ (1,1) , (0,1) , (1,6)]\n",
    "ma_liste_bordélique = [\"un texte\", 18, 5.4, True, (1,0)]"
   ]
  },
  {
   "cell_type": "markdown",
   "metadata": {},
   "source": [
    "Un dernier exemple qui est celui que vous allez utiliser le plus : la liste qui ne contient rien !"
   ]
  },
  {
   "cell_type": "code",
   "execution_count": null,
   "metadata": {},
   "outputs": [],
   "source": [
    "la_liste_vide = []"
   ]
  },
  {
   "cell_type": "markdown",
   "metadata": {},
   "source": [
    "Maintenant qu'on sait créer des listes, encore faut-il pouvoir les manipuler. Voici un résumé des principales actions sur les listes.\n",
    "\n",
    "* liste[n] : Permet de récupérer l'élément d'indice n. Attention : le premier élément est d'indice 0 !\n",
    "*  Astuce : Pour inverser deux éléments d'une liste, on peut écrire : liste[i], liste[j] = liste[j], liste[i]\n",
    "\n",
    "* len(liste) : Donne la longueur de la liste (le nombre d'éléments).\n",
    "* liste.remove(element) : Retire element de la liste. Attention, il ne retire que la première occurrence, si element apparait plusieurs fois, il faut l'enlever plusieurs fois.\n",
    "* liste.count(element) : Donne le nombre de fois où element se trouve dans la liste.\n",
    "* sum(liste) : Donne la somme des éléments de la liste lorsque c'est une liste de nombres bien entendu. Extremement pratique car elle évite une boucle for et sert très souvent.\n",
    "* liste.sort() : Trie la liste dans l'ordre croissant. Si on veux avoir un tri dans l'ordre décroissant il faut écrire liste.sort(reverse=True)."
   ]
  },
  {
   "cell_type": "markdown",
   "metadata": {},
   "source": [
    "### <span style=\"color:red\">Exercice 3</span>    \n",
    "créer le programme suivant :\n",
    "1. Créer une liste avec 6 mots\n",
    "2. y ajouter un mot\n",
    "3. Placer ce dernier mot ajouté en troisème position\n",
    "4. imprimer la liste des quatre premiers mots\n"
   ]
  },
  {
   "cell_type": "code",
   "execution_count": null,
   "metadata": {},
   "outputs": [],
   "source": []
  },
  {
   "cell_type": "markdown",
   "metadata": {},
   "source": [
    "### <span style=\"color:red\">Exercice 4</span> \n",
    "A partir de la liste A= [ 1, 6, 12, 3, 1, 6 ]\n",
    "créer le programme suivant :\n",
    "1. Compter le nombre de fois qu'apparait l'élément 1\n",
    "2. Faire la sommme des éléments de la liste\n",
    "3. trier la liste dans l'ordre croissant puis l'imprimer.\n",
    "4. trier la liste dans l'ordre décroissant puis l'imprimer.\n",
    "5. Ajouter deux éléments à la liste A puis l'imprimer.\n",
    "6. Créer une liste B avec un élément sur deux de la liste A puis l'imprimer.\n"
   ]
  },
  {
   "cell_type": "code",
   "execution_count": null,
   "metadata": {},
   "outputs": [],
   "source": [
    "A= [ 1, 6, 12, 3, 1, 6 ] "
   ]
  }
 ],
 "metadata": {
  "kernelspec": {
   "display_name": "Python 3",
   "language": "python",
   "name": "python3"
  },
  "language_info": {
   "codemirror_mode": {
    "name": "ipython",
    "version": 3
   },
   "file_extension": ".py",
   "mimetype": "text/x-python",
   "name": "python",
   "nbconvert_exporter": "python",
   "pygments_lexer": "ipython3",
   "version": "3.7.3"
  }
 },
 "nbformat": 4,
 "nbformat_minor": 2
}
